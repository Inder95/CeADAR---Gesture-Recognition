{
 "cells": [
  {
   "cell_type": "code",
   "execution_count": 1,
   "metadata": {},
   "outputs": [
    {
     "name": "stderr",
     "output_type": "stream",
     "text": [
      "Using TensorFlow backend.\n"
     ]
    },
    {
     "name": "stdout",
     "output_type": "stream",
     "text": [
      "<class 'function'>\n"
     ]
    }
   ],
   "source": [
    "import batch_generator as bg\n",
    "import keras\n",
    "from keras.models import Sequential\n",
    "from keras.layers import Conv3D, MaxPooling3D, Dense, Dropout, Flatten\n",
    "from keras.optimizers import Adam\n",
    "\n",
    "def batch_model():\n",
    "    model = Sequential()\n",
    "    model.add(Conv3D(32, (3,3,3), activation='relu', input_shape=(40,28,28,1)))\n",
    "    model.add(MaxPooling3D(pool_size=(1, 2, 2), strides=(1, 2, 2)))\n",
    "    model.add(Conv3D(64, (3,3,3), activation='relu'))\n",
    "    model.add(Conv3D(128, (3,3,3), activation='relu'))\n",
    "    model.add(MaxPooling3D(pool_size=(1, 2, 2), strides=(1, 2, 2)))\n",
    "    model.add(Conv3D(256, (2,2,2), activation='relu'))\n",
    "    model.add(Conv3D(256, (2,2,2), activation='relu'))\n",
    "    model.add(MaxPooling3D(pool_size=(1, 2, 2), strides=(1, 2, 2)))\n",
    "    model.add(Flatten())\n",
    "    model.add(Dense(1024))\n",
    "    model.add(Dropout(0.5))\n",
    "    model.add(Dense(1024))\n",
    "    model.add(Dropout(0.5))\n",
    "    model.add(Dense(4, activation='softmax'))\n",
    "    model.compile(optimizer = 'adam', loss = 'categorical_crossentropy', metrics = ['accuracy'])\n",
    "    return model "
   ]
  },
  {
   "cell_type": "code",
   "execution_count": 2,
   "metadata": {},
   "outputs": [
    {
     "name": "stdout",
     "output_type": "stream",
     "text": [
      "Epoch 1/10\n",
      "160/160 [==============================] - 927s 6s/step - loss: 12.0295 - acc: 0.2529\n",
      "Epoch 2/10\n",
      "  7/160 [>.............................] - ETA: 14:38 - loss: 12.3188 - acc: 0.2357"
     ]
    },
    {
     "name": "stderr",
     "output_type": "stream",
     "text": [
      "ERROR:root:Internal Python error in the inspect module.\n",
      "Below is the traceback from this internal error.\n",
      "\n"
     ]
    },
    {
     "name": "stdout",
     "output_type": "stream",
     "text": [
      "Traceback (most recent call last):\n",
      "  File \"C:\\Users\\Michael\\Anaconda3\\lib\\site-packages\\IPython\\core\\interactiveshell.py\", line 3265, in run_code\n",
      "    exec(code_obj, self.user_global_ns, self.user_ns)\n",
      "  File \"<ipython-input-2-320d530160c0>\", line 2, in <module>\n",
      "    yo.fit_generator(bg.batch_gen(), steps_per_epoch = 160,epochs = 10)\n",
      "  File \"C:\\Users\\Michael\\Anaconda3\\lib\\site-packages\\keras\\legacy\\interfaces.py\", line 91, in wrapper\n",
      "    return func(*args, **kwargs)\n",
      "  File \"C:\\Users\\Michael\\Anaconda3\\lib\\site-packages\\keras\\engine\\training.py\", line 1418, in fit_generator\n",
      "    initial_epoch=initial_epoch)\n",
      "  File \"C:\\Users\\Michael\\Anaconda3\\lib\\site-packages\\keras\\engine\\training_generator.py\", line 181, in fit_generator\n",
      "    generator_output = next(output_generator)\n",
      "  File \"C:\\Users\\Michael\\Anaconda3\\lib\\site-packages\\keras\\utils\\data_utils.py\", line 709, in get\n",
      "    six.reraise(*sys.exc_info())\n",
      "  File \"C:\\Users\\Michael\\Anaconda3\\lib\\site-packages\\six.py\", line 693, in reraise\n",
      "    raise value\n",
      "  File \"C:\\Users\\Michael\\Anaconda3\\lib\\site-packages\\keras\\utils\\data_utils.py\", line 685, in get\n",
      "    inputs = self.queue.get(block=True).get()\n",
      "  File \"C:\\Users\\Michael\\Anaconda3\\lib\\multiprocessing\\pool.py\", line 644, in get\n",
      "    raise self._value\n",
      "  File \"C:\\Users\\Michael\\Anaconda3\\lib\\multiprocessing\\pool.py\", line 119, in worker\n",
      "    result = (True, func(*args, **kwds))\n",
      "  File \"C:\\Users\\Michael\\Anaconda3\\lib\\site-packages\\keras\\utils\\data_utils.py\", line 626, in next_sample\n",
      "    return six.next(_SHARED_SEQUENCES[uid])\n",
      "  File \"C:\\Users\\Michael\\Documents\\project\\Swipes\\batch_generator.py\", line 18, in batch_gen\n",
      "    X[i] = gp.gest3D(train.iloc[i+n*100,0]).reshape(40,28,28,1)\n",
      "  File \"C:\\Users\\Michael\\Anaconda3\\lib\\site-packages\\pandas\\core\\indexing.py\", line 1472, in __getitem__\n",
      "    return self._getitem_tuple(key)\n",
      "  File \"C:\\Users\\Michael\\Anaconda3\\lib\\site-packages\\pandas\\core\\indexing.py\", line 2013, in _getitem_tuple\n",
      "    self._has_valid_tuple(tup)\n",
      "  File \"C:\\Users\\Michael\\Anaconda3\\lib\\site-packages\\pandas\\core\\indexing.py\", line 222, in _has_valid_tuple\n",
      "    self._validate_key(k, i)\n",
      "  File \"C:\\Users\\Michael\\Anaconda3\\lib\\site-packages\\pandas\\core\\indexing.py\", line 1957, in _validate_key\n",
      "    self._validate_integer(key, axis)\n",
      "  File \"C:\\Users\\Michael\\Anaconda3\\lib\\site-packages\\pandas\\core\\indexing.py\", line 2009, in _validate_integer\n",
      "    raise IndexError(\"single positional indexer is out-of-bounds\")\n",
      "IndexError: single positional indexer is out-of-bounds\n",
      "\n",
      "During handling of the above exception, another exception occurred:\n",
      "\n",
      "Traceback (most recent call last):\n",
      "  File \"C:\\Users\\Michael\\Anaconda3\\lib\\site-packages\\IPython\\core\\interactiveshell.py\", line 2016, in showtraceback\n",
      "    stb = value._render_traceback_()\n",
      "AttributeError: 'IndexError' object has no attribute '_render_traceback_'\n",
      "\n",
      "During handling of the above exception, another exception occurred:\n",
      "\n",
      "Traceback (most recent call last):\n",
      "  File \"C:\\Users\\Michael\\Anaconda3\\lib\\site-packages\\IPython\\core\\ultratb.py\", line 1095, in get_records\n",
      "    return _fixed_getinnerframes(etb, number_of_lines_of_context, tb_offset)\n",
      "  File \"C:\\Users\\Michael\\Anaconda3\\lib\\site-packages\\IPython\\core\\ultratb.py\", line 313, in wrapped\n",
      "    return f(*args, **kwargs)\n",
      "  File \"C:\\Users\\Michael\\Anaconda3\\lib\\site-packages\\IPython\\core\\ultratb.py\", line 347, in _fixed_getinnerframes\n",
      "    records = fix_frame_records_filenames(inspect.getinnerframes(etb, context))\n",
      "  File \"C:\\Users\\Michael\\Anaconda3\\lib\\inspect.py\", line 1483, in getinnerframes\n",
      "    frameinfo = (tb.tb_frame,) + getframeinfo(tb, context)\n",
      "  File \"C:\\Users\\Michael\\Anaconda3\\lib\\inspect.py\", line 1441, in getframeinfo\n",
      "    filename = getsourcefile(frame) or getfile(frame)\n",
      "  File \"C:\\Users\\Michael\\Anaconda3\\lib\\inspect.py\", line 696, in getsourcefile\n",
      "    if getattr(getmodule(object, filename), '__loader__', None) is not None:\n",
      "  File \"C:\\Users\\Michael\\Anaconda3\\lib\\inspect.py\", line 739, in getmodule\n",
      "    f = getabsfile(module)\n",
      "  File \"C:\\Users\\Michael\\Anaconda3\\lib\\inspect.py\", line 708, in getabsfile\n",
      "    _filename = getsourcefile(object) or getfile(object)\n",
      "  File \"C:\\Users\\Michael\\Anaconda3\\lib\\inspect.py\", line 693, in getsourcefile\n",
      "    if os.path.exists(filename):\n",
      "  File \"C:\\Users\\Michael\\Anaconda3\\lib\\genericpath.py\", line 19, in exists\n",
      "    os.stat(path)\n",
      "KeyboardInterrupt\n"
     ]
    },
    {
     "ename": "IndexError",
     "evalue": "single positional indexer is out-of-bounds",
     "output_type": "error",
     "traceback": [
      "\u001b[1;31m---------------------------------------------------------------------------\u001b[0m"
     ]
    }
   ],
   "source": [
    "yo = batch_model()\n",
    "yo.fit_generator(bg.batch_gen(), steps_per_epoch = 160,epochs = 10)"
   ]
  },
  {
   "cell_type": "code",
   "execution_count": null,
   "metadata": {},
   "outputs": [],
   "source": []
  }
 ],
 "metadata": {
  "kernelspec": {
   "display_name": "Python 3",
   "language": "python",
   "name": "python3"
  },
  "language_info": {
   "codemirror_mode": {
    "name": "ipython",
    "version": 3
   },
   "file_extension": ".py",
   "mimetype": "text/x-python",
   "name": "python",
   "nbconvert_exporter": "python",
   "pygments_lexer": "ipython3",
   "version": "3.6.6"
  }
 },
 "nbformat": 4,
 "nbformat_minor": 2
}
