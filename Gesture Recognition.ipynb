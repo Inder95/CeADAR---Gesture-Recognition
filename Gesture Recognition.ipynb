{
 "cells": [
  {
   "cell_type": "code",
   "execution_count": 3,
   "metadata": {
    "scrolled": false
   },
   "outputs": [],
   "source": [
    "import pandas as pd\n",
    "import numpy as np"
   ]
  },
  {
   "cell_type": "code",
   "execution_count": 18,
   "metadata": {},
   "outputs": [],
   "source": [
    "full_train = pd.read_csv('jester-v1-train.csv', delimiter = ';',header = None)\n",
    "labels = pd.read_csv('jester-v1-labels.csv',delimiter = ';', header = None)\n",
    "full_validation = pd.read_csv('jester-v1-validation.csv', delimiter = ';',header = None)\n",
    "full_train.columns = ['video_id','gesture']\n",
    "full_validation.columns = ['video_id','gesture']"
   ]
  },
  {
   "cell_type": "code",
   "execution_count": 20,
   "metadata": {},
   "outputs": [
    {
     "data": {
      "text/plain": [
       "16725"
      ]
     },
     "execution_count": 20,
     "metadata": {},
     "output_type": "execute_result"
    }
   ],
   "source": [
    "train = full_train[(full_train['gesture'] == 'Swiping Right') | \n",
    "                   (full_train['gesture'] == 'Swiping Left') | \n",
    "                   (full_train['gesture'] == 'Swiping Up') | \n",
    "                   (full_train['gesture'] == 'Swiping Down')]\n",
    "train.shape[0]"
   ]
  },
  {
   "cell_type": "code",
   "execution_count": 22,
   "metadata": {},
   "outputs": [
    {
     "data": {
      "text/plain": [
       "2008"
      ]
     },
     "execution_count": 22,
     "metadata": {},
     "output_type": "execute_result"
    }
   ],
   "source": [
    "test = validation[(validation['gesture'] == 'Swiping Right') | \n",
    "                   (validation['gesture'] == 'Swiping Left') | \n",
    "                   (validation['gesture'] == 'Swiping Up') | \n",
    "                   (validation['gesture'] == 'Swiping Down')]\n",
    "test.shape[0]"
   ]
  }
 ],
 "metadata": {
  "kernelspec": {
   "display_name": "Python 3",
   "language": "python",
   "name": "python3"
  },
  "language_info": {
   "codemirror_mode": {
    "name": "ipython",
    "version": 3
   },
   "file_extension": ".py",
   "mimetype": "text/x-python",
   "name": "python",
   "nbconvert_exporter": "python",
   "pygments_lexer": "ipython3",
   "version": "3.7.0"
  }
 },
 "nbformat": 4,
 "nbformat_minor": 2
}
